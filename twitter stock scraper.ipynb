{
 "cells": [
  {
   "cell_type": "code",
   "execution_count": null,
   "id": "55f41b42",
   "metadata": {},
   "outputs": [],
   "source": [
    "import twint\n",
    "import asyncio\n",
    "import nest_asyncio\n",
    "from bs4 import BeautifulSoup\n",
    "import time\n",
    "import concurrent.futures\n",
    "from dictdiffer import diff, patch, swap, revert\n",
    "import itertools\n",
    "import requests\n",
    "from bs4 import BeautifulSoup\n",
    "import random\n",
    "import concurrent.futures\n",
    "from random_user_agent.user_agent import UserAgent\n",
    "from random_user_agent.params import SoftwareName, OperatingSystem\n",
    "from random import randint\n",
    "import telegram\n",
    "import copy\n",
    "import json\n",
    "from colors import color, red, blue\n",
    "from requests.exceptions import ConnectionError\n",
    "from telegram import ParseMode\n",
    "from arik_proxl import main,check_one,check_all\n",
    "import random\n",
    "#applying nest_asyncio for twint\n",
    "nest_asyncio.apply()\n",
    "#telefram bot\n",
    "bot = telegram.Bot(token='your token')\n",
    "# your file with stock usernames on twitter\n",
    "f=open(r'file location')\n",
    "ress=json.load(f)                     \n",
    "df=[]\n",
    "x=0\n",
    "CHUNK_SIZE = 12\n",
    "counter=0\n",
    "while x<1000000000000000000000000000000:\n",
    " for i in range(len(ress)): \n",
    "  p=main()\n",
    "  proxies=check_all(p)\n",
    "  stock=ress[i][\"url\"]\n",
    "  users=ress[i][\"twitter\"]\n",
    "  twint.output.tweets_list=[]\n",
    "  t = twint.Config()\n",
    "  t.Username = users\n",
    "  print(users)\n",
    "  t.Store_object_tweets_list=True\n",
    "  t.Hide_output = True\n",
    "  t.Store_object = True\n",
    "  t.Retweets = False\n",
    "  twint.run.Search(t)\n",
    "  if len(twint.output.tweets_list)==0:\n",
    "   df.append({\"tweet\":twint.output.tweets_list,\"stock\":stock})\n",
    "  else:\n",
    "   df.append({\"tweet\":twint.output.tweets_list[0].tweet,\"stock\":stock})\n",
    "  twint.output.clean_lists()\n",
    "  \n",
    " if x>0:\n",
    "             print(x)\n",
    "             for i in range(len(df)):\n",
    "              if dfold[i][\"tweet\"]!=df[i][\"tweet\"]:\n",
    "               message=[]\n",
    "               message.append(df[i][\"tweet\"])\n",
    "               if len(message)>0:\n",
    "                message.insert(0, '<b>🎲'+stocks[i]+'</b>') \n",
    "                message.insert(1, '<b>new twitter message</b>')\n",
    "                message.insert(2, '')\n",
    "                text= \"\\n\".join(['%-2s' % (i,) for i in message])\n",
    "                message.insert(3, text)\n",
    "                print(1)\n",
    "                print(df[i][\"stock\"])\n",
    "                print(df[i][\"tweet\"])\n",
    "                print(dfold[i][\"tweet\"])\n",
    "                bot.sendMessage(chat_id='your chatid', text=text,parse_mode=ParseMode.HTML)\n",
    "\n",
    "\n",
    " print('finished comparison')\n",
    " dfold=copy.deepcopy(df)\n",
    " df=[]\n",
    " x=x+1\n",
    " time.sleep(12)\n",
    "# added a counter if youw ant to do something in the middle of the loop\n",
    " counter=counter+1\n",
    "#except KeyboardInterrupt:\n",
    " #   pass\n"
   ]
  }
 ],
 "metadata": {
  "kernelspec": {
   "display_name": "Python 3",
   "language": "python",
   "name": "python3"
  },
  "language_info": {
   "codemirror_mode": {
    "name": "ipython",
    "version": 3
   },
   "file_extension": ".py",
   "mimetype": "text/x-python",
   "name": "python",
   "nbconvert_exporter": "python",
   "pygments_lexer": "ipython3",
   "version": "3.7.10"
  },
  "varInspector": {
   "cols": {
    "lenName": 16,
    "lenType": 16,
    "lenVar": 40
   },
   "kernels_config": {
    "python": {
     "delete_cmd_postfix": "",
     "delete_cmd_prefix": "del ",
     "library": "var_list.py",
     "varRefreshCmd": "print(var_dic_list())"
    },
    "r": {
     "delete_cmd_postfix": ") ",
     "delete_cmd_prefix": "rm(",
     "library": "var_list.r",
     "varRefreshCmd": "cat(var_dic_list()) "
    }
   },
   "types_to_exclude": [
    "module",
    "function",
    "builtin_function_or_method",
    "instance",
    "_Feature"
   ],
   "window_display": false
  }
 },
 "nbformat": 4,
 "nbformat_minor": 5
}
